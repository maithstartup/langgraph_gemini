{
  "nbformat": 4,
  "nbformat_minor": 0,
  "metadata": {
    "colab": {
      "provenance": [],
      "authorship_tag": "ABX9TyPIwaGF2fMt9/rNJxT22eKW",
      "include_colab_link": true
    },
    "kernelspec": {
      "name": "python3",
      "display_name": "Python 3"
    },
    "language_info": {
      "name": "python"
    }
  },
  "cells": [
    {
      "cell_type": "markdown",
      "metadata": {
        "id": "view-in-github",
        "colab_type": "text"
      },
      "source": [
        "<a href=\"https://colab.research.google.com/github/maithstartup/langgraph_gemini/blob/main/Langgraph_Gemini.ipynb\" target=\"_parent\"><img src=\"https://colab.research.google.com/assets/colab-badge.svg\" alt=\"Open In Colab\"/></a>"
      ]
    },
    {
      "cell_type": "code",
      "execution_count": 1,
      "metadata": {
        "colab": {
          "base_uri": "https://localhost:8080/",
          "height": 1000
        },
        "collapsed": true,
        "id": "3WMcQLm6oXuJ",
        "outputId": "67b64c34-b63c-4730-d8c2-7757783ed928"
      },
      "outputs": [
        {
          "output_type": "stream",
          "name": "stdout",
          "text": [
            "Collecting langgraph\n",
            "  Downloading langgraph-0.3.5-py3-none-any.whl.metadata (17 kB)\n",
            "Collecting langchain_community\n",
            "  Downloading langchain_community-0.3.19-py3-none-any.whl.metadata (2.4 kB)\n",
            "Collecting langchain-google-genai\n",
            "  Downloading langchain_google_genai-2.0.11-py3-none-any.whl.metadata (3.6 kB)\n",
            "Requirement already satisfied: langchain-core<0.4,>=0.1 in /usr/local/lib/python3.11/dist-packages (from langgraph) (0.3.40)\n",
            "Collecting langgraph-checkpoint<3.0.0,>=2.0.10 (from langgraph)\n",
            "  Downloading langgraph_checkpoint-2.0.18-py3-none-any.whl.metadata (4.6 kB)\n",
            "Collecting langgraph-prebuilt<0.2,>=0.1.1 (from langgraph)\n",
            "  Downloading langgraph_prebuilt-0.1.2-py3-none-any.whl.metadata (5.0 kB)\n",
            "Collecting langgraph-sdk<0.2.0,>=0.1.42 (from langgraph)\n",
            "  Downloading langgraph_sdk-0.1.55-py3-none-any.whl.metadata (1.8 kB)\n",
            "Collecting langchain-core<0.4,>=0.1 (from langgraph)\n",
            "  Downloading langchain_core-0.3.43-py3-none-any.whl.metadata (5.9 kB)\n",
            "Collecting langchain<1.0.0,>=0.3.20 (from langchain_community)\n",
            "  Downloading langchain-0.3.20-py3-none-any.whl.metadata (7.7 kB)\n",
            "Requirement already satisfied: SQLAlchemy<3,>=1.4 in /usr/local/lib/python3.11/dist-packages (from langchain_community) (2.0.38)\n",
            "Requirement already satisfied: requests<3,>=2 in /usr/local/lib/python3.11/dist-packages (from langchain_community) (2.32.3)\n",
            "Requirement already satisfied: PyYAML>=5.3 in /usr/local/lib/python3.11/dist-packages (from langchain_community) (6.0.2)\n",
            "Requirement already satisfied: aiohttp<4.0.0,>=3.8.3 in /usr/local/lib/python3.11/dist-packages (from langchain_community) (3.11.13)\n",
            "Requirement already satisfied: tenacity!=8.4.0,<10,>=8.1.0 in /usr/local/lib/python3.11/dist-packages (from langchain_community) (9.0.0)\n",
            "Collecting dataclasses-json<0.7,>=0.5.7 (from langchain_community)\n",
            "  Downloading dataclasses_json-0.6.7-py3-none-any.whl.metadata (25 kB)\n",
            "Collecting pydantic-settings<3.0.0,>=2.4.0 (from langchain_community)\n",
            "  Downloading pydantic_settings-2.8.1-py3-none-any.whl.metadata (3.5 kB)\n",
            "Requirement already satisfied: langsmith<0.4,>=0.1.125 in /usr/local/lib/python3.11/dist-packages (from langchain_community) (0.3.11)\n",
            "Collecting httpx-sse<1.0.0,>=0.4.0 (from langchain_community)\n",
            "  Downloading httpx_sse-0.4.0-py3-none-any.whl.metadata (9.0 kB)\n",
            "Requirement already satisfied: numpy<3,>=1.26.2 in /usr/local/lib/python3.11/dist-packages (from langchain_community) (1.26.4)\n",
            "Collecting filetype<2.0.0,>=1.2.0 (from langchain-google-genai)\n",
            "  Downloading filetype-1.2.0-py2.py3-none-any.whl.metadata (6.5 kB)\n",
            "Collecting google-ai-generativelanguage<0.7.0,>=0.6.16 (from langchain-google-genai)\n",
            "  Downloading google_ai_generativelanguage-0.6.16-py3-none-any.whl.metadata (5.7 kB)\n",
            "Requirement already satisfied: pydantic<3,>=2 in /usr/local/lib/python3.11/dist-packages (from langchain-google-genai) (2.10.6)\n",
            "Requirement already satisfied: aiohappyeyeballs>=2.3.0 in /usr/local/lib/python3.11/dist-packages (from aiohttp<4.0.0,>=3.8.3->langchain_community) (2.4.6)\n",
            "Requirement already satisfied: aiosignal>=1.1.2 in /usr/local/lib/python3.11/dist-packages (from aiohttp<4.0.0,>=3.8.3->langchain_community) (1.3.2)\n",
            "Requirement already satisfied: attrs>=17.3.0 in /usr/local/lib/python3.11/dist-packages (from aiohttp<4.0.0,>=3.8.3->langchain_community) (25.1.0)\n",
            "Requirement already satisfied: frozenlist>=1.1.1 in /usr/local/lib/python3.11/dist-packages (from aiohttp<4.0.0,>=3.8.3->langchain_community) (1.5.0)\n",
            "Requirement already satisfied: multidict<7.0,>=4.5 in /usr/local/lib/python3.11/dist-packages (from aiohttp<4.0.0,>=3.8.3->langchain_community) (6.1.0)\n",
            "Requirement already satisfied: propcache>=0.2.0 in /usr/local/lib/python3.11/dist-packages (from aiohttp<4.0.0,>=3.8.3->langchain_community) (0.3.0)\n",
            "Requirement already satisfied: yarl<2.0,>=1.17.0 in /usr/local/lib/python3.11/dist-packages (from aiohttp<4.0.0,>=3.8.3->langchain_community) (1.18.3)\n",
            "Collecting marshmallow<4.0.0,>=3.18.0 (from dataclasses-json<0.7,>=0.5.7->langchain_community)\n",
            "  Downloading marshmallow-3.26.1-py3-none-any.whl.metadata (7.3 kB)\n",
            "Collecting typing-inspect<1,>=0.4.0 (from dataclasses-json<0.7,>=0.5.7->langchain_community)\n",
            "  Downloading typing_inspect-0.9.0-py3-none-any.whl.metadata (1.5 kB)\n",
            "Requirement already satisfied: google-api-core!=2.0.*,!=2.1.*,!=2.10.*,!=2.2.*,!=2.3.*,!=2.4.*,!=2.5.*,!=2.6.*,!=2.7.*,!=2.8.*,!=2.9.*,<3.0.0dev,>=1.34.1 in /usr/local/lib/python3.11/dist-packages (from google-api-core[grpc]!=2.0.*,!=2.1.*,!=2.10.*,!=2.2.*,!=2.3.*,!=2.4.*,!=2.5.*,!=2.6.*,!=2.7.*,!=2.8.*,!=2.9.*,<3.0.0dev,>=1.34.1->google-ai-generativelanguage<0.7.0,>=0.6.16->langchain-google-genai) (2.24.1)\n",
            "Requirement already satisfied: google-auth!=2.24.0,!=2.25.0,<3.0.0dev,>=2.14.1 in /usr/local/lib/python3.11/dist-packages (from google-ai-generativelanguage<0.7.0,>=0.6.16->langchain-google-genai) (2.38.0)\n",
            "Requirement already satisfied: proto-plus<2.0.0dev,>=1.22.3 in /usr/local/lib/python3.11/dist-packages (from google-ai-generativelanguage<0.7.0,>=0.6.16->langchain-google-genai) (1.26.0)\n",
            "Requirement already satisfied: protobuf!=4.21.0,!=4.21.1,!=4.21.2,!=4.21.3,!=4.21.4,!=4.21.5,<6.0.0dev,>=3.20.2 in /usr/local/lib/python3.11/dist-packages (from google-ai-generativelanguage<0.7.0,>=0.6.16->langchain-google-genai) (4.25.6)\n",
            "Requirement already satisfied: langchain-text-splitters<1.0.0,>=0.3.6 in /usr/local/lib/python3.11/dist-packages (from langchain<1.0.0,>=0.3.20->langchain_community) (0.3.6)\n",
            "Requirement already satisfied: jsonpatch<2.0,>=1.33 in /usr/local/lib/python3.11/dist-packages (from langchain-core<0.4,>=0.1->langgraph) (1.33)\n",
            "Requirement already satisfied: packaging<25,>=23.2 in /usr/local/lib/python3.11/dist-packages (from langchain-core<0.4,>=0.1->langgraph) (24.2)\n",
            "Requirement already satisfied: typing-extensions>=4.7 in /usr/local/lib/python3.11/dist-packages (from langchain-core<0.4,>=0.1->langgraph) (4.12.2)\n",
            "Requirement already satisfied: msgpack<2.0.0,>=1.1.0 in /usr/local/lib/python3.11/dist-packages (from langgraph-checkpoint<3.0.0,>=2.0.10->langgraph) (1.1.0)\n",
            "Requirement already satisfied: httpx>=0.25.2 in /usr/local/lib/python3.11/dist-packages (from langgraph-sdk<0.2.0,>=0.1.42->langgraph) (0.28.1)\n",
            "Requirement already satisfied: orjson>=3.10.1 in /usr/local/lib/python3.11/dist-packages (from langgraph-sdk<0.2.0,>=0.1.42->langgraph) (3.10.15)\n",
            "Requirement already satisfied: requests-toolbelt<2.0.0,>=1.0.0 in /usr/local/lib/python3.11/dist-packages (from langsmith<0.4,>=0.1.125->langchain_community) (1.0.0)\n",
            "Requirement already satisfied: zstandard<0.24.0,>=0.23.0 in /usr/local/lib/python3.11/dist-packages (from langsmith<0.4,>=0.1.125->langchain_community) (0.23.0)\n",
            "Requirement already satisfied: annotated-types>=0.6.0 in /usr/local/lib/python3.11/dist-packages (from pydantic<3,>=2->langchain-google-genai) (0.7.0)\n",
            "Requirement already satisfied: pydantic-core==2.27.2 in /usr/local/lib/python3.11/dist-packages (from pydantic<3,>=2->langchain-google-genai) (2.27.2)\n",
            "Collecting python-dotenv>=0.21.0 (from pydantic-settings<3.0.0,>=2.4.0->langchain_community)\n",
            "  Downloading python_dotenv-1.0.1-py3-none-any.whl.metadata (23 kB)\n",
            "Requirement already satisfied: charset-normalizer<4,>=2 in /usr/local/lib/python3.11/dist-packages (from requests<3,>=2->langchain_community) (3.4.1)\n",
            "Requirement already satisfied: idna<4,>=2.5 in /usr/local/lib/python3.11/dist-packages (from requests<3,>=2->langchain_community) (3.10)\n",
            "Requirement already satisfied: urllib3<3,>=1.21.1 in /usr/local/lib/python3.11/dist-packages (from requests<3,>=2->langchain_community) (2.3.0)\n",
            "Requirement already satisfied: certifi>=2017.4.17 in /usr/local/lib/python3.11/dist-packages (from requests<3,>=2->langchain_community) (2025.1.31)\n",
            "Requirement already satisfied: greenlet!=0.4.17 in /usr/local/lib/python3.11/dist-packages (from SQLAlchemy<3,>=1.4->langchain_community) (3.1.1)\n",
            "Requirement already satisfied: googleapis-common-protos<2.0.dev0,>=1.56.2 in /usr/local/lib/python3.11/dist-packages (from google-api-core!=2.0.*,!=2.1.*,!=2.10.*,!=2.2.*,!=2.3.*,!=2.4.*,!=2.5.*,!=2.6.*,!=2.7.*,!=2.8.*,!=2.9.*,<3.0.0dev,>=1.34.1->google-api-core[grpc]!=2.0.*,!=2.1.*,!=2.10.*,!=2.2.*,!=2.3.*,!=2.4.*,!=2.5.*,!=2.6.*,!=2.7.*,!=2.8.*,!=2.9.*,<3.0.0dev,>=1.34.1->google-ai-generativelanguage<0.7.0,>=0.6.16->langchain-google-genai) (1.69.0)\n",
            "Requirement already satisfied: grpcio<2.0dev,>=1.33.2 in /usr/local/lib/python3.11/dist-packages (from google-api-core[grpc]!=2.0.*,!=2.1.*,!=2.10.*,!=2.2.*,!=2.3.*,!=2.4.*,!=2.5.*,!=2.6.*,!=2.7.*,!=2.8.*,!=2.9.*,<3.0.0dev,>=1.34.1->google-ai-generativelanguage<0.7.0,>=0.6.16->langchain-google-genai) (1.70.0)\n",
            "Requirement already satisfied: grpcio-status<2.0.dev0,>=1.33.2 in /usr/local/lib/python3.11/dist-packages (from google-api-core[grpc]!=2.0.*,!=2.1.*,!=2.10.*,!=2.2.*,!=2.3.*,!=2.4.*,!=2.5.*,!=2.6.*,!=2.7.*,!=2.8.*,!=2.9.*,<3.0.0dev,>=1.34.1->google-ai-generativelanguage<0.7.0,>=0.6.16->langchain-google-genai) (1.62.3)\n",
            "Requirement already satisfied: cachetools<6.0,>=2.0.0 in /usr/local/lib/python3.11/dist-packages (from google-auth!=2.24.0,!=2.25.0,<3.0.0dev,>=2.14.1->google-ai-generativelanguage<0.7.0,>=0.6.16->langchain-google-genai) (5.5.2)\n",
            "Requirement already satisfied: pyasn1-modules>=0.2.1 in /usr/local/lib/python3.11/dist-packages (from google-auth!=2.24.0,!=2.25.0,<3.0.0dev,>=2.14.1->google-ai-generativelanguage<0.7.0,>=0.6.16->langchain-google-genai) (0.4.1)\n",
            "Requirement already satisfied: rsa<5,>=3.1.4 in /usr/local/lib/python3.11/dist-packages (from google-auth!=2.24.0,!=2.25.0,<3.0.0dev,>=2.14.1->google-ai-generativelanguage<0.7.0,>=0.6.16->langchain-google-genai) (4.9)\n",
            "Requirement already satisfied: anyio in /usr/local/lib/python3.11/dist-packages (from httpx>=0.25.2->langgraph-sdk<0.2.0,>=0.1.42->langgraph) (3.7.1)\n",
            "Requirement already satisfied: httpcore==1.* in /usr/local/lib/python3.11/dist-packages (from httpx>=0.25.2->langgraph-sdk<0.2.0,>=0.1.42->langgraph) (1.0.7)\n",
            "Requirement already satisfied: h11<0.15,>=0.13 in /usr/local/lib/python3.11/dist-packages (from httpcore==1.*->httpx>=0.25.2->langgraph-sdk<0.2.0,>=0.1.42->langgraph) (0.14.0)\n",
            "Requirement already satisfied: jsonpointer>=1.9 in /usr/local/lib/python3.11/dist-packages (from jsonpatch<2.0,>=1.33->langchain-core<0.4,>=0.1->langgraph) (3.0.0)\n",
            "Collecting mypy-extensions>=0.3.0 (from typing-inspect<1,>=0.4.0->dataclasses-json<0.7,>=0.5.7->langchain_community)\n",
            "  Downloading mypy_extensions-1.0.0-py3-none-any.whl.metadata (1.1 kB)\n",
            "Requirement already satisfied: pyasn1<0.7.0,>=0.4.6 in /usr/local/lib/python3.11/dist-packages (from pyasn1-modules>=0.2.1->google-auth!=2.24.0,!=2.25.0,<3.0.0dev,>=2.14.1->google-ai-generativelanguage<0.7.0,>=0.6.16->langchain-google-genai) (0.6.1)\n",
            "Requirement already satisfied: sniffio>=1.1 in /usr/local/lib/python3.11/dist-packages (from anyio->httpx>=0.25.2->langgraph-sdk<0.2.0,>=0.1.42->langgraph) (1.3.1)\n",
            "Downloading langgraph-0.3.5-py3-none-any.whl (131 kB)\n",
            "\u001b[2K   \u001b[90m━━━━━━━━━━━━━━━━━━━━━━━━━━━━━━━━━━━━━━━━\u001b[0m \u001b[32m131.5/131.5 kB\u001b[0m \u001b[31m3.8 MB/s\u001b[0m eta \u001b[36m0:00:00\u001b[0m\n",
            "\u001b[?25hDownloading langchain_community-0.3.19-py3-none-any.whl (2.5 MB)\n",
            "\u001b[2K   \u001b[90m━━━━━━━━━━━━━━━━━━━━━━━━━━━━━━━━━━━━━━━━\u001b[0m \u001b[32m2.5/2.5 MB\u001b[0m \u001b[31m25.9 MB/s\u001b[0m eta \u001b[36m0:00:00\u001b[0m\n",
            "\u001b[?25hDownloading langchain_google_genai-2.0.11-py3-none-any.whl (39 kB)\n",
            "Downloading dataclasses_json-0.6.7-py3-none-any.whl (28 kB)\n",
            "Downloading filetype-1.2.0-py2.py3-none-any.whl (19 kB)\n",
            "Downloading google_ai_generativelanguage-0.6.16-py3-none-any.whl (1.4 MB)\n",
            "\u001b[2K   \u001b[90m━━━━━━━━━━━━━━━━━━━━━━━━━━━━━━━━━━━━━━━━\u001b[0m \u001b[32m1.4/1.4 MB\u001b[0m \u001b[31m23.1 MB/s\u001b[0m eta \u001b[36m0:00:00\u001b[0m\n",
            "\u001b[?25hDownloading httpx_sse-0.4.0-py3-none-any.whl (7.8 kB)\n",
            "Downloading langchain-0.3.20-py3-none-any.whl (1.0 MB)\n",
            "\u001b[2K   \u001b[90m━━━━━━━━━━━━━━━━━━━━━━━━━━━━━━━━━━━━━━━━\u001b[0m \u001b[32m1.0/1.0 MB\u001b[0m \u001b[31m26.1 MB/s\u001b[0m eta \u001b[36m0:00:00\u001b[0m\n",
            "\u001b[?25hDownloading langchain_core-0.3.43-py3-none-any.whl (415 kB)\n",
            "\u001b[2K   \u001b[90m━━━━━━━━━━━━━━━━━━━━━━━━━━━━━━━━━━━━━━━━\u001b[0m \u001b[32m415.4/415.4 kB\u001b[0m \u001b[31m18.1 MB/s\u001b[0m eta \u001b[36m0:00:00\u001b[0m\n",
            "\u001b[?25hDownloading langgraph_checkpoint-2.0.18-py3-none-any.whl (39 kB)\n",
            "Downloading langgraph_prebuilt-0.1.2-py3-none-any.whl (24 kB)\n",
            "Downloading langgraph_sdk-0.1.55-py3-none-any.whl (45 kB)\n",
            "\u001b[2K   \u001b[90m━━━━━━━━━━━━━━━━━━━━━━━━━━━━━━━━━━━━━━━━\u001b[0m \u001b[32m45.8/45.8 kB\u001b[0m \u001b[31m2.3 MB/s\u001b[0m eta \u001b[36m0:00:00\u001b[0m\n",
            "\u001b[?25hDownloading pydantic_settings-2.8.1-py3-none-any.whl (30 kB)\n",
            "Downloading marshmallow-3.26.1-py3-none-any.whl (50 kB)\n",
            "\u001b[2K   \u001b[90m━━━━━━━━━━━━━━━━━━━━━━━━━━━━━━━━━━━━━━━━\u001b[0m \u001b[32m50.9/50.9 kB\u001b[0m \u001b[31m1.2 MB/s\u001b[0m eta \u001b[36m0:00:00\u001b[0m\n",
            "\u001b[?25hDownloading python_dotenv-1.0.1-py3-none-any.whl (19 kB)\n",
            "Downloading typing_inspect-0.9.0-py3-none-any.whl (8.8 kB)\n",
            "Downloading mypy_extensions-1.0.0-py3-none-any.whl (4.7 kB)\n",
            "Installing collected packages: filetype, python-dotenv, mypy-extensions, marshmallow, httpx-sse, typing-inspect, pydantic-settings, langgraph-sdk, dataclasses-json, langchain-core, langgraph-checkpoint, google-ai-generativelanguage, langgraph-prebuilt, langchain-google-genai, langchain, langgraph, langchain_community\n",
            "  Attempting uninstall: langchain-core\n",
            "    Found existing installation: langchain-core 0.3.40\n",
            "    Uninstalling langchain-core-0.3.40:\n",
            "      Successfully uninstalled langchain-core-0.3.40\n",
            "  Attempting uninstall: google-ai-generativelanguage\n",
            "    Found existing installation: google-ai-generativelanguage 0.6.15\n",
            "    Uninstalling google-ai-generativelanguage-0.6.15:\n",
            "      Successfully uninstalled google-ai-generativelanguage-0.6.15\n",
            "  Attempting uninstall: langchain\n",
            "    Found existing installation: langchain 0.3.19\n",
            "    Uninstalling langchain-0.3.19:\n",
            "      Successfully uninstalled langchain-0.3.19\n",
            "\u001b[31mERROR: pip's dependency resolver does not currently take into account all the packages that are installed. This behaviour is the source of the following dependency conflicts.\n",
            "google-generativeai 0.8.4 requires google-ai-generativelanguage==0.6.15, but you have google-ai-generativelanguage 0.6.16 which is incompatible.\u001b[0m\u001b[31m\n",
            "\u001b[0mSuccessfully installed dataclasses-json-0.6.7 filetype-1.2.0 google-ai-generativelanguage-0.6.16 httpx-sse-0.4.0 langchain-0.3.20 langchain-core-0.3.43 langchain-google-genai-2.0.11 langchain_community-0.3.19 langgraph-0.3.5 langgraph-checkpoint-2.0.18 langgraph-prebuilt-0.1.2 langgraph-sdk-0.1.55 marshmallow-3.26.1 mypy-extensions-1.0.0 pydantic-settings-2.8.1 python-dotenv-1.0.1 typing-inspect-0.9.0\n"
          ]
        },
        {
          "output_type": "display_data",
          "data": {
            "application/vnd.colab-display-data+json": {
              "pip_warning": {
                "packages": [
                  "google"
                ]
              },
              "id": "0198fdbaaad746a094cc80ea84d9d888"
            }
          },
          "metadata": {}
        }
      ],
      "source": [
        "%pip install -U langgraph langchain_community langchain-google-genai"
      ]
    },
    {
      "cell_type": "code",
      "source": [
        "import os\n",
        "import getpass\n",
        "\n",
        "def _set_if_undefined(var: str):\n",
        "    if not os.environ.get(var):\n",
        "        os.environ[var] = getpass.getpass(f\"Please provide your {var}\")\n",
        "\n",
        "\n",
        "_set_if_undefined(\"GOOGLE_API_KEY\")\n",
        "_set_if_undefined(\"TAVILY_API_KEY\")"
      ],
      "metadata": {
        "colab": {
          "base_uri": "https://localhost:8080/"
        },
        "id": "tms2u3Hyo_y7",
        "outputId": "dde04e40-c9c0-419d-ed6c-3089edaa71c5"
      },
      "execution_count": 2,
      "outputs": [
        {
          "name": "stdout",
          "output_type": "stream",
          "text": [
            "Please provide your GOOGLE_API_KEY··········\n",
            "Please provide your TAVILY_API_KEY··········\n"
          ]
        }
      ]
    },
    {
      "cell_type": "markdown",
      "source": [
        "# **Model**\n"
      ],
      "metadata": {
        "id": "GECmXBbFuGcS"
      }
    },
    {
      "cell_type": "code",
      "source": [
        "from langchain_google_genai import ChatGoogleGenerativeAI"
      ],
      "metadata": {
        "id": "3lkM8A4ztswy"
      },
      "execution_count": 3,
      "outputs": []
    },
    {
      "cell_type": "code",
      "source": [
        "gemini = ChatGoogleGenerativeAI(model=\"gemini-2.0-flash\")"
      ],
      "metadata": {
        "id": "gM95ZDqkqtAr"
      },
      "execution_count": 4,
      "outputs": []
    },
    {
      "cell_type": "code",
      "source": [
        "gemini.invoke(\"what is the capital of india?\")"
      ],
      "metadata": {
        "colab": {
          "base_uri": "https://localhost:8080/"
        },
        "id": "F6_QCOVKrTgL",
        "outputId": "866e235b-a2c5-44db-8592-fab0d9222077"
      },
      "execution_count": 5,
      "outputs": [
        {
          "output_type": "execute_result",
          "data": {
            "text/plain": [
              "AIMessage(content='The capital of India is **New Delhi**.', additional_kwargs={}, response_metadata={'prompt_feedback': {'block_reason': 0, 'safety_ratings': []}, 'finish_reason': 'STOP', 'safety_ratings': []}, id='run-3f71ed68-d528-40e5-b466-0f7ba4793966-0', usage_metadata={'input_tokens': 7, 'output_tokens': 10, 'total_tokens': 17, 'input_token_details': {'cache_read': 0}})"
            ]
          },
          "metadata": {},
          "execution_count": 5
        }
      ]
    },
    {
      "cell_type": "code",
      "source": [
        "gemini.invoke(\"what is the Temperature today in delhi\")"
      ],
      "metadata": {
        "colab": {
          "base_uri": "https://localhost:8080/"
        },
        "id": "1aukDiRpMjVc",
        "outputId": "3daf4a88-e781-405a-8abb-35551b461f72"
      },
      "execution_count": 6,
      "outputs": [
        {
          "output_type": "execute_result",
          "data": {
            "text/plain": [
              "AIMessage(content='I do not have access to real-time information, including current weather conditions. To find out the temperature in Delhi today, I recommend checking a reliable weather app or website such as:\\n\\n*   **Google Weather:** Just search \"weather in Delhi\" on Google.\\n*   **AccuWeather:** [https://www.accuweather.com/](https://www.accuweather.com/)\\n*   **The Weather Channel:** [https://weather.com/](https://weather.com/)\\n*   **India Meteorological Department (IMD):** [http://www.imd.gov.in/](http://www.imd.gov.in/) (Official source for India)\\n\\nThese sources will give you the most up-to-date temperature and weather forecast for Delhi.', additional_kwargs={}, response_metadata={'prompt_feedback': {'block_reason': 0, 'safety_ratings': []}, 'finish_reason': 'STOP', 'safety_ratings': []}, id='run-3cdfdcef-2d75-4084-9f69-38df1aff7291-0', usage_metadata={'input_tokens': 7, 'output_tokens': 165, 'total_tokens': 172, 'input_token_details': {'cache_read': 0}})"
            ]
          },
          "metadata": {},
          "execution_count": 6
        }
      ]
    },
    {
      "cell_type": "markdown",
      "source": [
        "# **Tool**"
      ],
      "metadata": {
        "id": "IFZ9EorkuWm2"
      }
    },
    {
      "cell_type": "code",
      "source": [
        "from langchain_community.tools.tavily_search import TavilySearchResults\n",
        "\n",
        "tool = TavilySearchResults(max_results=4) #increased number of results\n",
        "print(type(tool))\n",
        "print(tool.name)"
      ],
      "metadata": {
        "colab": {
          "base_uri": "https://localhost:8080/"
        },
        "id": "4hYKEWI1uDvF",
        "outputId": "99430cd1-1d19-49ed-a5fd-8454e4ae7507"
      },
      "execution_count": 7,
      "outputs": [
        {
          "output_type": "stream",
          "name": "stdout",
          "text": [
            "<class 'langchain_community.tools.tavily_search.tool.TavilySearchResults'>\n",
            "tavily_search_results_json\n"
          ]
        }
      ]
    },
    {
      "cell_type": "code",
      "source": [
        "tool.invoke(\"what is the weather in delhi?\")"
      ],
      "metadata": {
        "colab": {
          "base_uri": "https://localhost:8080/"
        },
        "id": "3zUhFiMxpVH_",
        "outputId": "9a37f3dc-fbee-41df-c7fe-58d58c02e446",
        "collapsed": true
      },
      "execution_count": 8,
      "outputs": [
        {
          "output_type": "execute_result",
          "data": {
            "text/plain": [
              "[{'title': 'Weather in delhi',\n",
              "  'url': 'https://www.weatherapi.com/',\n",
              "  'content': \"{'location': {'name': 'Delhi', 'region': 'Ontario', 'country': 'Canada', 'lat': 42.85, 'lon': -80.5, 'tz_id': 'America/Toronto', 'localtime_epoch': 1741399696, 'localtime': '2025-03-07 21:08'}, 'current': {'last_updated_epoch': 1741399200, 'last_updated': '2025-03-07 21:00', 'temp_c': -0.4, 'temp_f': 31.3, 'is_day': 0, 'condition': {'text': 'Clear', 'icon': '//cdn.weatherapi.com/weather/64x64/night/113.png', 'code': 1000}, 'wind_mph': 9.4, 'wind_kph': 15.1, 'wind_degree': 243, 'wind_dir': 'WSW', 'pressure_mb': 1007.0, 'pressure_in': 29.74, 'precip_mm': 0.0, 'precip_in': 0.0, 'humidity': 80, 'cloud': 0, 'feelslike_c': -4.9, 'feelslike_f': 23.1, 'windchill_c': -5.7, 'windchill_f': 21.7, 'heatindex_c': -0.9, 'heatindex_f': 30.5, 'dewpoint_c': -3.4, 'dewpoint_f': 25.8, 'vis_km': 10.0, 'vis_miles': 6.0, 'uv': 0.0, 'gust_mph': 15.5, 'gust_kph': 24.9}}\",\n",
              "  'score': 0.9520846},\n",
              " {'title': 'Weather in Delhi in March 2025',\n",
              "  'url': 'https://world-weather.info/forecast/india/delhi/march-2025/',\n",
              "  'content': 'Weather in Delhi in March 2025. Delhi Weather Forecast for March 2025 is ... Saturday, 8 March. +57°. Day. +82°. Clear sky. Sunday, 9 March. +59°. Day. +84',\n",
              "  'score': 0.95100147},\n",
              " {'title': 'Delhi Weather Forecast for March 8, 2025: Sunny, Breezy and ...',\n",
              "  'url': 'https://www.moneycontrol.com/travel/delhi-weather-forecast-for-march-8-2025-sunny-breezy-and-warming-up-article-12959507.html',\n",
              "  'content': 'Delhi wakes up to clear skies and a crisp morning on Saturday, March 8, 2025. Strong surface winds will sweep through the city,',\n",
              "  'score': 0.9484276},\n",
              " {'title': 'Delhi weather in March 2025 | Delhi 14 day weather - Weather25.com',\n",
              "  'url': 'https://www.weather25.com/asia/india/delhi?page=month&month=March',\n",
              "  'content': 'The weather in Delhi in March is hot. The average temperatures are between 68°F and 91°F. You can expect a few rainy days in Delhi during March.',\n",
              "  'score': 0.8925721}]"
            ]
          },
          "metadata": {},
          "execution_count": 8
        }
      ]
    },
    {
      "cell_type": "markdown",
      "source": [
        "# **Orchestartion**"
      ],
      "metadata": {
        "id": "0eKc-OsdueGU"
      }
    },
    {
      "cell_type": "code",
      "source": [
        "from langgraph.graph import StateGraph,START,END\n",
        "from langchain_core.messages import AnyMessage, SystemMessage, HumanMessage, ToolMessage\n"
      ],
      "metadata": {
        "id": "Jn4cxRdbpVxh"
      },
      "execution_count": 9,
      "outputs": []
    },
    {
      "cell_type": "markdown",
      "source": [
        "**State**"
      ],
      "metadata": {
        "id": "c_FXF3KAulIy"
      }
    },
    {
      "cell_type": "code",
      "source": [
        "from typing import Annotated\n",
        "from typing_extensions import TypedDict\n",
        "import operator\n",
        "\n",
        "\n"
      ],
      "metadata": {
        "id": "I9JRglRpp5-L"
      },
      "execution_count": 10,
      "outputs": []
    },
    {
      "cell_type": "code",
      "source": [
        "class AgentState(TypedDict):\n",
        "  messages:Annotated[list[AnyMessage],operator.add]"
      ],
      "metadata": {
        "id": "vmSAr_h_v5Me"
      },
      "execution_count": 11,
      "outputs": []
    },
    {
      "cell_type": "markdown",
      "source": [],
      "metadata": {
        "id": "rE7i4v8tv7Po"
      }
    },
    {
      "cell_type": "code",
      "source": [],
      "metadata": {
        "id": "nf7nlVRNv8i2"
      },
      "execution_count": 11,
      "outputs": []
    },
    {
      "cell_type": "code",
      "source": [
        "class Agent:\n",
        "\n",
        "    def __init__(self, model, tools, system=\"\"):\n",
        "        self.system = system\n",
        "        graph = StateGraph(AgentState)\n",
        "        graph.add_node(\"llm\", self.call_llm)\n",
        "        graph.add_node(\"action\", self.take_action)\n",
        "        graph.add_conditional_edges(\n",
        "            \"llm\",\n",
        "            self.exists_action,\n",
        "            {True: \"action\", False: END}\n",
        "        )\n",
        "        graph.add_edge(\"action\", \"llm\")\n",
        "        graph.set_entry_point(\"llm\")\n",
        "        self.graph = graph.compile()\n",
        "        self.tools = {t.name: t for t in tools}\n",
        "        self.model = model.bind_tools(tools)\n",
        "\n",
        "\n",
        "\n",
        "    def exists_action(self, state: AgentState):\n",
        "        result = state['messages'][-1]\n",
        "        return len(result.tool_calls) > 0\n",
        "\n",
        "    def call_llm(self, state: AgentState):\n",
        "        messages = state['messages']\n",
        "        if self.system:\n",
        "            messages = [SystemMessage(content=self.system)] + messages\n",
        "        message = self.model.invoke(messages)\n",
        "        return {'messages': [message]}\n",
        "\n",
        "    def take_action(self, state: AgentState):\n",
        "        tool_calls = state['messages'][-1].tool_calls\n",
        "        results = []\n",
        "        for t in tool_calls:\n",
        "            print(f\"Calling: {t}\")\n",
        "            if not t['name'] in self.tools:      # check for bad tool name from LLM\n",
        "                print(\"\\n ....bad tool name....\")\n",
        "                result = \"bad tool name, retry\"  # instruct LLM to retry if bad\n",
        "            else:\n",
        "                result = self.tools[t['name']].invoke(t['args'])\n",
        "            results.append(ToolMessage(tool_call_id=t['id'], name=t['name'], content=str(result)))\n",
        "        print(\"Back to the model!\")\n",
        "        return {'messages': results}\n",
        "\n"
      ],
      "metadata": {
        "id": "YIMaNQlupgPl"
      },
      "execution_count": 39,
      "outputs": []
    },
    {
      "cell_type": "code",
      "source": [
        "prompt = \"\"\"You are a smart research assistant. Use the search engine to look up information. \\\n",
        "You are allowed to make multiple calls (either together or in sequence). \\\n",
        "Only look up information when you are sure of what you want. \\\n",
        "If you need to look up some information before asking a follow up question, you are allowed to do that!\n",
        "\"\"\"\n",
        "\n",
        "model = ChatGoogleGenerativeAI(model=\"gemini-2.0-flash\")  #reduce inference cost\n",
        "abot = Agent(model, [tool], system=prompt)"
      ],
      "metadata": {
        "id": "-unC2iMtEdVz"
      },
      "execution_count": 40,
      "outputs": []
    },
    {
      "cell_type": "code",
      "source": [
        "abot.graph"
      ],
      "metadata": {
        "colab": {
          "base_uri": "https://localhost:8080/",
          "height": 290
        },
        "id": "4n_imhEQg-X5",
        "outputId": "96f5b964-2eef-4517-a694-a7a5d354f8a6"
      },
      "execution_count": 41,
      "outputs": [
        {
          "output_type": "execute_result",
          "data": {
            "text/plain": [
              "<langgraph.graph.state.CompiledStateGraph object at 0x78e9918c33d0>"
            ],
            "image/png": "[encoded data removed]"
          },
          "metadata": {},
          "execution_count": 41
        }
      ]
    },
    {
      "cell_type": "code",
      "source": [
        "messages = [HumanMessage(content=\"What is the US currency exchange rate to INR today march 8th\")]\n",
        "result = abot.graph.invoke({\"messages\": messages})"
      ],
      "metadata": {
        "colab": {
          "base_uri": "https://localhost:8080/"
        },
        "id": "CRAncVqDE7PH",
        "outputId": "82546b22-8fd0-43ff-c1c3-e443a064a3cc"
      },
      "execution_count": 46,
      "outputs": [
        {
          "output_type": "stream",
          "name": "stdout",
          "text": [
            "Calling: {'name': 'tavily_search_results_json', 'args': {'query': 'US dollar to INR exchange rate today march 8th 2024'}, 'id': 'd730c7ae-37b4-4af6-91bd-835a6191e542', 'type': 'tool_call'}\n",
            "Back to the model!\n"
          ]
        }
      ]
    },
    {
      "cell_type": "code",
      "source": [
        "result"
      ],
      "metadata": {
        "colab": {
          "base_uri": "https://localhost:8080/"
        },
        "id": "FOCrwHjGIgVh",
        "outputId": "a585cd0f-b836-4262-9b4c-016c7b99e7b9"
      },
      "execution_count": 47,
      "outputs": [
        {
          "output_type": "execute_result",
          "data": {
            "text/plain": [
              "{'messages': [HumanMessage(content='What is the US currency exchange rate to INR today march 8th', additional_kwargs={}, response_metadata={}),\n",
              "  AIMessage(content='', additional_kwargs={'function_call': {'name': 'tavily_search_results_json', 'arguments': '{\"query\": \"US dollar to INR exchange rate today march 8th 2024\"}'}}, response_metadata={'prompt_feedback': {'block_reason': 0, 'safety_ratings': []}, 'finish_reason': 'STOP', 'safety_ratings': []}, id='run-baa1edd7-72be-4ba8-811f-d42a4fd286eb-0', tool_calls=[{'name': 'tavily_search_results_json', 'args': {'query': 'US dollar to INR exchange rate today march 8th 2024'}, 'id': 'd730c7ae-37b4-4af6-91bd-835a6191e542', 'type': 'tool_call'}], usage_metadata={'input_tokens': 127, 'output_tokens': 25, 'total_tokens': 152, 'input_token_details': {'cache_read': 0}}),\n",
              "  ToolMessage(content='[{\\'title\\': \\'US Dollar (USD) to Indian Rupee (INR) Exchange Rates for March 8 ...\\', \\'url\\': \\'https://www.exchange-rates.org/exchange-rate-history/usd-inr-2024-03-08\\', \\'content\\': \"USD/INR Rate on 2024-3-8, 1 USD = 82.75235 INR ; Today\\'s USD/INR rate, 1 USD = 87.10024 INR ; Change, +4.3479 INR ; Change %, +5.25%\", \\'score\\': 0.9692574}, {\\'title\\': \\'US Dollar to Indian Rupee Spot Exchange Rates for 2024\\', \\'url\\': \\'https://www.exchangerates.org.uk/USD-INR-spot-exchange-rates-history-2024.html\\', \\'content\\': \\'March 2024 ; Friday 8 March 2024, $1 USD = ₹82.7524, USD/INR rate for 08/03/2024 ; Saturday 9 March 2024, $1 USD = ₹82.7524, USD/INR rate for 09/03/2024 ; Sunday\\', \\'score\\': 0.9654888}, {\\'title\\': \\'US dollar to Indian rupees Historical Exchange Rates - INR - Wise\\', \\'url\\': \\'https://wise.com/us/currency-converter/usd-to-inr-rate/history\\', \\'content\\': \\'The exchange rate for US dollar to Indian rupees is currently 87.104 today, reflecting a 0.258% change since yesterday. Over the past week, the value of US\\', \\'score\\': 0.8815438}, {\\'title\\': \\'U.S. Dollar-Indian Rupee History: 2024 - Pound Sterling LIVE\\', \\'url\\': \\'https://www.poundsterlinglive.com/history/USD-INR-2024\\', \\'content\\': \"Daily USD/INR rates for 2024, including the day\\'s high, low, open, close and mid rates. ; Tuesday 8 October 2024 (08/10/2024). 83.9893. 83.9385 ; Monday 7 October\", \\'score\\': 0.75464433}]', name='tavily_search_results_json', tool_call_id='d730c7ae-37b4-4af6-91bd-835a6191e542'),\n",
              "  AIMessage(content='Based on the search results, the US dollar to Indian rupee exchange rate today, March 8th, 2024, is approximately 82.75 to 87.10 INR per 1 USD. The results show some variation, so it might be useful to check a specific currency converter for the most up-to-date rate.', additional_kwargs={}, response_metadata={'prompt_feedback': {'block_reason': 0, 'safety_ratings': []}, 'finish_reason': 'STOP', 'safety_ratings': []}, id='run-6b7e53c9-1f96-4b19-9761-56d82399723d-0', usage_metadata={'input_tokens': 721, 'output_tokens': 76, 'total_tokens': 797, 'input_token_details': {'cache_read': 0}})]}"
            ]
          },
          "metadata": {},
          "execution_count": 47
        }
      ]
    },
    {
      "cell_type": "code",
      "source": [
        "new_message = result['messages']+[HumanMessage(content=\"whats is greater 2500 INR or 27 USD\")]\n",
        "result = abot.graph.invoke({\"messages\": new_message})\n"
      ],
      "metadata": {
        "id": "ntspGd3AJxlN",
        "colab": {
          "base_uri": "https://localhost:8080/"
        },
        "outputId": "ac5773e5-2577-4613-c694-bd18392b38b9"
      },
      "execution_count": 48,
      "outputs": [
        {
          "output_type": "stream",
          "name": "stdout",
          "text": [
            "Calling: {'name': 'tavily_search_results_json', 'args': {'query': 'INR to USD'}, 'id': 'b2f36933-4ae7-42f1-9ef9-e9504b9a33be', 'type': 'tool_call'}\n",
            "Back to the model!\n"
          ]
        }
      ]
    },
    {
      "cell_type": "code",
      "source": [
        "result"
      ],
      "metadata": {
        "colab": {
          "base_uri": "https://localhost:8080/"
        },
        "id": "t803jKqeL0QO",
        "outputId": "993b1977-7808-4453-816e-bf798fd98b10"
      },
      "execution_count": 49,
      "outputs": [
        {
          "output_type": "execute_result",
          "data": {
            "text/plain": [
              "{'messages': [HumanMessage(content='What is the US currency exchange rate to INR today march 8th', additional_kwargs={}, response_metadata={}),\n",
              "  AIMessage(content='', additional_kwargs={'function_call': {'name': 'tavily_search_results_json', 'arguments': '{\"query\": \"US dollar to INR exchange rate today march 8th 2024\"}'}}, response_metadata={'prompt_feedback': {'block_reason': 0, 'safety_ratings': []}, 'finish_reason': 'STOP', 'safety_ratings': []}, id='run-baa1edd7-72be-4ba8-811f-d42a4fd286eb-0', tool_calls=[{'name': 'tavily_search_results_json', 'args': {'query': 'US dollar to INR exchange rate today march 8th 2024'}, 'id': 'd730c7ae-37b4-4af6-91bd-835a6191e542', 'type': 'tool_call'}], usage_metadata={'input_tokens': 127, 'output_tokens': 25, 'total_tokens': 152, 'input_token_details': {'cache_read': 0}}),\n",
              "  ToolMessage(content='[{\\'title\\': \\'US Dollar (USD) to Indian Rupee (INR) Exchange Rates for March 8 ...\\', \\'url\\': \\'https://www.exchange-rates.org/exchange-rate-history/usd-inr-2024-03-08\\', \\'content\\': \"USD/INR Rate on 2024-3-8, 1 USD = 82.75235 INR ; Today\\'s USD/INR rate, 1 USD = 87.10024 INR ; Change, +4.3479 INR ; Change %, +5.25%\", \\'score\\': 0.9692574}, {\\'title\\': \\'US Dollar to Indian Rupee Spot Exchange Rates for 2024\\', \\'url\\': \\'https://www.exchangerates.org.uk/USD-INR-spot-exchange-rates-history-2024.html\\', \\'content\\': \\'March 2024 ; Friday 8 March 2024, $1 USD = ₹82.7524, USD/INR rate for 08/03/2024 ; Saturday 9 March 2024, $1 USD = ₹82.7524, USD/INR rate for 09/03/2024 ; Sunday\\', \\'score\\': 0.9654888}, {\\'title\\': \\'US dollar to Indian rupees Historical Exchange Rates - INR - Wise\\', \\'url\\': \\'https://wise.com/us/currency-converter/usd-to-inr-rate/history\\', \\'content\\': \\'The exchange rate for US dollar to Indian rupees is currently 87.104 today, reflecting a 0.258% change since yesterday. Over the past week, the value of US\\', \\'score\\': 0.8815438}, {\\'title\\': \\'U.S. Dollar-Indian Rupee History: 2024 - Pound Sterling LIVE\\', \\'url\\': \\'https://www.poundsterlinglive.com/history/USD-INR-2024\\', \\'content\\': \"Daily USD/INR rates for 2024, including the day\\'s high, low, open, close and mid rates. ; Tuesday 8 October 2024 (08/10/2024). 83.9893. 83.9385 ; Monday 7 October\", \\'score\\': 0.75464433}]', name='tavily_search_results_json', tool_call_id='d730c7ae-37b4-4af6-91bd-835a6191e542'),\n",
              "  AIMessage(content='Based on the search results, the US dollar to Indian rupee exchange rate today, March 8th, 2024, is approximately 82.75 to 87.10 INR per 1 USD. The results show some variation, so it might be useful to check a specific currency converter for the most up-to-date rate.', additional_kwargs={}, response_metadata={'prompt_feedback': {'block_reason': 0, 'safety_ratings': []}, 'finish_reason': 'STOP', 'safety_ratings': []}, id='run-6b7e53c9-1f96-4b19-9761-56d82399723d-0', usage_metadata={'input_tokens': 721, 'output_tokens': 76, 'total_tokens': 797, 'input_token_details': {'cache_read': 0}}),\n",
              "  HumanMessage(content='whats is greater 2500 INR or 27 USD', additional_kwargs={}, response_metadata={}),\n",
              "  AIMessage(content='', additional_kwargs={'function_call': {'name': 'tavily_search_results_json', 'arguments': '{\"query\": \"INR to USD\"}'}}, response_metadata={'prompt_feedback': {'block_reason': 0, 'safety_ratings': []}, 'finish_reason': 'STOP', 'safety_ratings': []}, id='run-30037e4e-b662-422c-80d2-4552a9c6f354-0', tool_calls=[{'name': 'tavily_search_results_json', 'args': {'query': 'INR to USD'}, 'id': 'b2f36933-4ae7-42f1-9ef9-e9504b9a33be', 'type': 'tool_call'}], usage_metadata={'input_tokens': 810, 'output_tokens': 12, 'total_tokens': 822, 'input_token_details': {'cache_read': 0}}),\n",
              "  ToolMessage(content=\"[{'title': '1 Indian rupee to US dollars Exchange Rate. Convert INR/USD - Wise', 'url': 'https://wise.com/us/currency-converter/inr-to-usd-rate?amount=1', 'content': '1 Indian rupee to US dollars Exchange Rate. Convert INR/USD - Wise Convert INR to USD at the real exchange rate 1 INR = 0.01139 USD Receive daily email about the INR → USD exchange rate Our currency converter will show you the current INR to USD rate and how it’s changed over the past day, week or month. Wise gives you the real, mid-market, exchange rate, so you can make huge savings on your international money transfers. Currency Converter is an exchange rate information and news app only and not a currency trading platform. | Conversion rates Indian Rupee / US Dollar | | 1 INR | 0.01139 USD | | Conversion rates US Dollar / Indian Rupee |', 'score': 0.92392945}, {'title': '1 INR to USD - Indian Rupees to US Dollars Exchange Rate - XE.com', 'url': 'https://www.xe.com/currencyconverter/convert/?Amount=1&From=INR&To=USD', 'content': '1 INR to USD - Convert Indian Rupees to US Dollars · Convert Indian Rupee to US Dollar · Convert US Dollar to Indian Rupee. USD. INR. 1 USD. 87.145', 'score': 0.8978479}, {'title': 'Indian Rupee to US Dollar - Currency Converter - Western Union', 'url': 'https://www.westernunion.com/in/en/currency-converter/inr-to-usd-rate.html', 'content': 'Ease and convenience from INR to USD. Send money and check INR to USD exchange rate through our website, app, or in person at an agent location.', 'score': 0.7449724}, {'title': '1 INR to USD - Oanda', 'url': 'https://www.oanda.com/currency-converter/en/?from=INR&to=USD&amount=1', 'content': 'No information is available for this page. · Learn why', 'score': 0.444493}]\", name='tavily_search_results_json', tool_call_id='b2f36933-4ae7-42f1-9ef9-e9504b9a33be'),\n",
              "  AIMessage(content='Okay, based on the current exchange rates, 1 INR is approximately 0.01139 USD.\\n\\nTherefore: 2500 INR is equal to 2500 * 0.01139 = 28.475 USD.\\n\\nSo, 2500 INR (approximately 28.48 USD) is greater than 27 USD.', additional_kwargs={}, response_metadata={'prompt_feedback': {'block_reason': 0, 'safety_ratings': []}, 'finish_reason': 'STOP', 'safety_ratings': []}, id='run-04aefbbd-36bc-4761-afb6-0cd12e34b77d-0', usage_metadata={'input_tokens': 1337, 'output_tokens': 88, 'total_tokens': 1425, 'input_token_details': {'cache_read': 0}})]}"
            ]
          },
          "metadata": {},
          "execution_count": 49
        }
      ]
    },
    {
      "cell_type": "code",
      "source": [
        "messages = [HumanMessage(content=\"What is the weather in SF and LA?\")]\n",
        "result = abot.graph.invoke({\"messages\": messages})"
      ],
      "metadata": {
        "colab": {
          "base_uri": "https://localhost:8080/"
        },
        "id": "IQFYDMW-Ic-f",
        "outputId": "dc72c3d4-e33e-46dc-c4de-7034860d1c4b"
      },
      "execution_count": 38,
      "outputs": [
        {
          "output_type": "stream",
          "name": "stdout",
          "text": [
            "Calling: {'name': 'tavily_search_results_json', 'args': {'query': 'weather in San Francisco'}, 'id': '840d5319-b175-48eb-81b9-eeb881c2ad41', 'type': 'tool_call'}\n",
            "Calling: {'name': 'tavily_search_results_json', 'args': {'query': 'weather in Los Angeles'}, 'id': 'fbe4bc20-eaf5-466a-9b23-870db5671037', 'type': 'tool_call'}\n",
            "Back to the model!\n"
          ]
        }
      ]
    },
    {
      "cell_type": "code",
      "source": [
        "result['messages'][-1].content"
      ],
      "metadata": {
        "colab": {
          "base_uri": "https://localhost:8080/",
          "height": 53
        },
        "id": "3kCCHKf2L7l-",
        "outputId": "f9a461fb-332e-4049-9f0c-6848092fbf9e"
      },
      "execution_count": null,
      "outputs": [
        {
          "output_type": "execute_result",
          "data": {
            "text/plain": [
              "'The weather in San Francisco is 41.5°F and sunny. The weather in Los Angeles is 46°F and sunny.'"
            ],
            "application/vnd.google.colaboratory.intrinsic+json": {
              "type": "string"
            }
          },
          "metadata": {},
          "execution_count": 52
        }
      ]
    },
    {
      "cell_type": "code",
      "source": [
        "query = \"Who won the super bowl in 2024? In what state is the winning team headquarters located? \\\n",
        "What is the GDP of that state? Answer each question.\"\n",
        "messages = [HumanMessage(content=query)]\n",
        "\n",
        "model = ChatGoogleGenerativeAI(model=\"gemini-2.0-flash\")  # requires more advanced model\n",
        "abot = Agent(model, [tool], system=prompt)\n",
        "result = abot.graph.invoke({\"messages\": messages})"
      ],
      "metadata": {
        "colab": {
          "base_uri": "https://localhost:8080/"
        },
        "id": "hEvknaR_L-2H",
        "outputId": "1a8cd8c3-2d86-4c82-803d-5a148c8fcb81"
      },
      "execution_count": null,
      "outputs": [
        {
          "output_type": "stream",
          "name": "stdout",
          "text": [
            "Calling: {'name': 'tavily_search_results_json', 'args': {'query': 'who won super bowl 2024'}, 'id': 'e20cd803-b45a-40dc-a9cc-6ba8d11407ed', 'type': 'tool_call'}\n",
            "Back to the model!\n",
            "Calling: {'name': 'tavily_search_results_json', 'args': {'query': 'Kansas City Chiefs headquarters location'}, 'id': '20763099-ced1-4a37-862f-89719539f367', 'type': 'tool_call'}\n",
            "Back to the model!\n",
            "Calling: {'name': 'tavily_search_results_json', 'args': {'query': 'GDP of Missouri'}, 'id': '196b48f5-8b57-4413-b14a-0386a0f22701', 'type': 'tool_call'}\n",
            "Back to the model!\n"
          ]
        }
      ]
    },
    {
      "cell_type": "code",
      "source": [
        "abot.graph"
      ],
      "metadata": {
        "colab": {
          "base_uri": "https://localhost:8080/",
          "height": 290
        },
        "id": "2eiCuzjNNdNM",
        "outputId": "5c0b41ce-bcb7-40a1-8de7-8011ca50fd12"
      },
      "execution_count": null,
      "outputs": [
        {
          "output_type": "execute_result",
          "data": {
            "text/plain": [
              "<langgraph.graph.state.CompiledStateGraph object at 0x79343d39f210>"
            ],
            "image/png": "[encoded data removed]"
          },
          "metadata": {},
          "execution_count": 69
        }
      ]
    },
    {
      "cell_type": "code",
      "source": [],
      "metadata": {
        "id": "HFh9T-bZNmJ0"
      },
      "execution_count": null,
      "outputs": []
    }
  ]
}